{
 "cells": [
  {
   "cell_type": "markdown",
   "metadata": {},
   "source": [
    "# text_test"
   ]
  },
  {
   "cell_type": "code",
   "execution_count": 1,
   "metadata": {},
   "outputs": [
    {
     "name": "stderr",
     "output_type": "stream",
     "text": [
      "/Users/hyottz/anaconda3/envs/HAI/lib/python3.8/site-packages/tqdm/auto.py:21: TqdmWarning: IProgress not found. Please update jupyter and ipywidgets. See https://ipywidgets.readthedocs.io/en/stable/user_install.html\n",
      "  from .autonotebook import tqdm as notebook_tqdm\n"
     ]
    },
    {
     "name": "stdout",
     "output_type": "stream",
     "text": [
      "입력 텍스트: 맛있는 사과를 추천해줘\n",
      "카테고리: 과일\n",
      "상품명: 사과\n",
      "조건: ['맛있는']\n",
      "***hit: {'original_price': 29990, 'image_url': 'https://sitem.ssgcdn.com/42/09/28/item/2097001280942_i1_1200.jpg', 'discount_price': 17990, 'description': '깨끗하고 달콤한 당도선별 세척 사과입니다. 토양과 기후조건이 좋은 경북에서 자라 당도가 높고 향이 풍부해요. 최적의 자연환경에서 자란 맛 좋은 사과만을 엄선하고 6단계의 세척과정을 거쳐 안심하고 드실 수 있답니다. 바쁜 직장인이나 학생들의 아침 대용으로도 좋은 사과를 더욱 달콤한 상품으로 만나 보세요.', 'category': '과일', 'product_name': '[당도선별] 세척 사과 9~11입, 2kg (박스)'}\n",
      "RAG 결과: 추천드릴 상품은 [당도선별] 세척 사과 9~11입, 2kg (박스)이고, 가격은 17,990원으로 할인중인 상품입니다. 해당 상품은 깨끗하고 달콤하며, 아침 대용으로 적합한 사과입니다.\n",
      "응답: 추천드릴 상품은 [당도선별] 세척 사과 9~11입, 2kg (박스)이고, 가격은 17,990원으로 할인중인 상품입니다. 해당 상품은 깨끗하고 달콤하며, 아침 대용으로 적합한 사과입니다.\n",
      "\n",
      "입력 텍스트: 상품의 가격은 얼마야?\n",
      "JSON 디코딩 오류: Expecting value: line 1 column 1 (char 0)\n",
      "RAG 처리 실패\n",
      "응답: None\n",
      "\n",
      "입력 텍스트: 나는 배가 고파\n",
      "응답: 찾고자 하는 상품을 말씀해주세요. (예시 : 맛있는 사과를 추천해주세요!) \n",
      "\n"
     ]
    }
   ],
   "source": [
    "\n",
    "from stt import perform_stt\n",
    "from tts import perform_tts\n",
    "from rag_img import RagHandler_img\n",
    "from rag_text import RagHandler_text\n",
    "from image_processor import ImageProcessor  # 이미지 처리 함수 추가\n",
    "import os\n",
    "\n",
    "# 텍스트\n",
    "def test(text):\n",
    "    # 2. 질문 판별\n",
    "    def classify_question(question: str) -> str:\n",
    "        # 상품 관련 키워드가 포함된 경우\n",
    "        if any(keyword in question for keyword in [\"상품\", \"가격\", \"설명\", \"구매\",\"추천\"]):\n",
    "            return \"product\"\n",
    "        return \"non_product\"\n",
    "    \n",
    "    # 질문 분류\n",
    "    question_type = classify_question(text)\n",
    "\n",
    "    if question_type == \"product\":\n",
    "        # 2. RAG 수행\n",
    "        history = []  # 예시를 위해 빈 히스토리 사용\n",
    "        rag_text = RagHandler_text()\n",
    "        rag_result = rag_text.get_rag_response(text,history)\n",
    "        if isinstance(rag_result, tuple):  # 오류 시 튜플 반환\n",
    "            print(\"RAG 처리 실패\")\n",
    "            return\n",
    "        response_text = rag_result[\"reply\"]\n",
    "        print(f\"RAG 결과: {response_text}\")\n",
    "    else:\n",
    "        response_text = \"찾고자 하는 상품을 말씀해주세요. (예시 : 맛있는 사과를 추천해주세요!) \"\n",
    "    \n",
    "    return response_text\n",
    "\n",
    "# 메인 함수\n",
    "if __name__ == \"__main__\":\n",
    "    # 테스트용 입력 텍스트\n",
    "    test_inputs = [\n",
    "        \"맛있는 사과를 추천해줘\",\n",
    "        \"상품의 가격은 얼마야?\",\n",
    "        \"나는 배가 고파\"\n",
    "    ]\n",
    "\n",
    "    # 각 입력에 대해 테스트 실행\n",
    "    for text in test_inputs:\n",
    "        print(f\"입력 텍스트: {text}\")\n",
    "        response = test(text)\n",
    "        print(f\"응답: {response}\\n\")"
   ]
  },
  {
   "cell_type": "markdown",
   "metadata": {},
   "source": [
    "# Image_test"
   ]
  },
  {
   "cell_type": "code",
   "execution_count": 13,
   "metadata": {},
   "outputs": [
    {
     "name": "stdout",
     "output_type": "stream",
     "text": [
      "[Error] 검색 실패: ConnectionError(('Connection aborted.', ConnectionResetError(54, 'Connection reset by peer'))) caused by: ProtocolError(('Connection aborted.', ConnectionResetError(54, 'Connection reset by peer')))\n",
      "RAG 처리 실패\n"
     ]
    }
   ],
   "source": [
    "from rag_img import RagHandler_img\n",
    "from rag_text import RagHandler_text\n",
    "from image_processor import ImageProcessor  # 이미지 처리 함수 추가\n",
    "import os\n",
    "\n",
    "# 이미지 \n",
    "def process_image(image):\n",
    "    # 1. RAG 수행\n",
    "    history = []  # 예시를 위해 빈 히스토리 사용\n",
    "    rag_img = RagHandler_img()\n",
    "    rag_result = rag_img.get_rag_response(image)\n",
    "    if isinstance(rag_result, tuple):  # 오류 시 튜플 반환\n",
    "        print(\"RAG 처리 실패\")\n",
    "        return\n",
    "\n",
    "    response_text = rag_result[\"reply\"]\n",
    "    return response_text\n",
    "\n",
    "# 메인 함수\n",
    "if __name__ == \"__main__\":\n",
    "    test_inputs = \"/Users/hyottz/Desktop/AI-main/Apple.jpg\"\n",
    "    response = process_image(test_inputs)\n"
   ]
  },
  {
   "cell_type": "code",
   "execution_count": 3,
   "metadata": {},
   "outputs": [
    {
     "name": "stdout",
     "output_type": "stream",
     "text": [
      "추천드릴 상품은 저탄소 알뜰사과(부사) 1kg 5~6입/봉으로, 가격은 8800원입니다. 부사는 저장성이 뛰어나 시즌성을 띠지 않아 4계절 항상 즐길 수 있는 사과입니다. 아삭아삭 단단한 과육과 산도가 낮고 달콤해 남녀노소 모두가 좋아하며, 아삭아삭 깨무는 순간 느껴지는 풍부한 과즙을 가득 즐길 수 있습니다. 환경과 더 나아가 나를 위한 기특한 저탄소 인증 사과를 선택해 보세요.\n"
     ]
    }
   ],
   "source": [
    "print(response)"
   ]
  },
  {
   "cell_type": "markdown",
   "metadata": {},
   "source": [
    "# 서버 테스트"
   ]
  },
  {
   "cell_type": "code",
   "execution_count": 1,
   "metadata": {},
   "outputs": [
    {
     "name": "stdout",
     "output_type": "stream",
     "text": [
      "{'detailed_results': [{'discount_price': None, 'image_url': 'https://sitem.ssgcdn.com/82/49/28/item/1000006284982_i1_1200.jpg', 'original_price': 11500, 'product_name': '강원 맑은청 방울토마토 750g/팩', 'rank': 1}, {'discount_price': 9900, 'image_url': 'https://sitem.ssgcdn.com/45/08/26/item/2097001260845_i1_1200.jpg', 'original_price': 11900, 'product_name': '대추방울토마토 500g (팩)', 'rank': 2}], 'reply': '추천 상품은 강원 맑은청 방울토마토 750g/팩이며, 원래 가격은 11,500원입니다. 이 방울토마토는 상큼한 맛과 단단한 과육으로 샐러드, 파스타 등 다양한 요리에 활용하기 좋습니다.'}\n"
     ]
    }
   ],
   "source": [
    "import requests\n",
    "\n",
    "url = \"http://127.0.0.1:2000/process_text\"\n",
    "#url = \"http://youngchannel.co.kr:1004/process_text\"\n",
    "\n",
    "# 요청 데이터 준비\n",
    "data = {\n",
    "    \"text\": \"방울토마토 찾아줘\"\n",
    "}\n",
    "\n",
    "# POST 요청 보내기\n",
    "response = requests.post(url, json=data)\n",
    "\n",
    "# 응답 상태 코드 확인 및 JSON 파싱\n",
    "if response.status_code == 200:\n",
    "    print(response.json())  # 서버에서 반환된 JSON 출력\n",
    "else:\n",
    "    print(f\"Error: {response.status_code}, {response.text}\")\n",
    "\n"
   ]
  },
  {
   "cell_type": "code",
   "execution_count": 6,
   "metadata": {},
   "outputs": [
    {
     "name": "stdout",
     "output_type": "stream",
     "text": [
      "{'detailed_results': [{'discount_price': 14900, 'image_url': 'https://sitem.ssgcdn.com/26/94/58/item/1000019589426_i1_1200.jpg', 'original_price': 19900, 'product_name': '타이벡 감귤 3kg/박스', 'rank': 1}, {'discount_price': 7980, 'image_url': 'https://sitem.ssgcdn.com/49/25/04/item/2097002042549_i1_1200.jpg', 'original_price': 12980, 'product_name': '저탄소 제주 고당도 꼬마감귤 1kg/팩', 'rank': 2}, {'discount_price': 9900, 'image_url': 'https://sitem.ssgcdn.com/79/18/75/item/2097001751879_i1_1200.jpg', 'original_price': 17900, 'product_name': '제주 중문 노지감귤 2.5kg', 'rank': 3}], 'reply': '추천 상품은 타이벡 감귤 3kg/박스입니다. 할인가는 14,900원이며, 원래 가격은 19,900원입니다. 타이벡 감귤은 껍질을 벗겨 먹으면 상큼함과 달콤함이 입속에서 터지는 듯한 맛을 느낄 수 있으며, 귤청을 만들어 달달하고 따뜻한 귤 차부터 상큼하고 톡톡 터지는 귤 에이드로도 변신할 수 있는 과일입니다.'}\n"
     ]
    }
   ],
   "source": [
    "import requests\n",
    "import base64\n",
    "\n",
    "# 이미지 처리 테스트\n",
    "# 임의의 이미지 파일을 Base64로 인코딩하여 테스트\n",
    "image_path = \"gul.png\"  # 테스트 이미지 경로\n",
    "with open(image_path, \"rb\") as image_file:\n",
    "    base64_image = base64.b64encode(image_file.read()).decode('utf-8')\n",
    "\n",
    "response = requests.post(\n",
    "    \"http://127.0.0.1:2000/process_image\",\n",
    "    json={\"image\": base64_image}\n",
    ")\n",
    "print(response.json())"
   ]
  }
 ],
 "metadata": {
  "kernelspec": {
   "display_name": "HAI",
   "language": "python",
   "name": "python3"
  },
  "language_info": {
   "codemirror_mode": {
    "name": "ipython",
    "version": 3
   },
   "file_extension": ".py",
   "mimetype": "text/x-python",
   "name": "python",
   "nbconvert_exporter": "python",
   "pygments_lexer": "ipython3",
   "version": "3.9.20"
  }
 },
 "nbformat": 4,
 "nbformat_minor": 2
}
