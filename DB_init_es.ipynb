{
 "cells": [
  {
   "cell_type": "code",
   "execution_count": 7,
   "metadata": {},
   "outputs": [],
   "source": [
    "from elasticsearch import Elasticsearch\n",
    "import pandas as pd\n",
    "from elasticsearch.helpers import bulk"
   ]
  },
  {
   "cell_type": "code",
   "execution_count": 5,
   "metadata": {},
   "outputs": [
    {
     "name": "stdout",
     "output_type": "stream",
     "text": [
      "Connected to Elasticsearch\n"
     ]
    }
   ],
   "source": [
    "# Elasticsearch 클라이언트 생성\n",
    "es = Elasticsearch(\"http://localhost:9200\")  # 로컬에서 실행되는 Elasticsearch에 연결\n",
    "\n",
    "# 연결 확인\n",
    "if es.ping():\n",
    "    print(\"Connected to Elasticsearch\")\n",
    "else:\n",
    "    print(\"Elasticsearch connection failed\")\n"
   ]
  },
  {
   "cell_type": "code",
   "execution_count": 6,
   "metadata": {},
   "outputs": [
    {
     "name": "stdout",
     "output_type": "stream",
     "text": [
      "Index 'products' already exists\n"
     ]
    }
   ],
   "source": [
    "# 인덱스 이름 설정\n",
    "index_name = \"products\"\n",
    "\n",
    "# 1. 인덱스 생성\n",
    "if not es.indices.exists(index=index_name):\n",
    "    es.indices.create(index=index_name)\n",
    "    print(f\"Index '{index_name}' created\")\n",
    "else:\n",
    "    print(f\"Index '{index_name}' already exists\")"
   ]
  },
  {
   "cell_type": "code",
   "execution_count": 10,
   "metadata": {},
   "outputs": [
    {
     "name": "stdout",
     "output_type": "stream",
     "text": [
      "Uploaded 551 documents to index 'products'\n"
     ]
    }
   ],
   "source": [
    "# 2. CSV 파일 읽기\n",
    "csv_file = \"C:/Users/user/Desktop/캡스톤/filtered_mart_data3.csv\"  # CSV 파일 경로\n",
    "df = pd.read_csv(csv_file)\n",
    "\n",
    "# 3. 데이터 준비 및 업로드\n",
    "def generate_data(df, index_name):\n",
    "    for i, row in df.iterrows():\n",
    "        yield {\n",
    "            \"_index\": index_name,\n",
    "            \"_id\": i + 1,  # 문서 ID 설정\n",
    "            \"_source\": {\n",
    "                \"category\": row[\"카테고리\"],\n",
    "                \"keyword\": row[\"키워드\"],\n",
    "                \"image_url\": row[\"이미지 URL\"],\n",
    "                \"product_name\": row[\"상품명\"],\n",
    "                \"discount_price\": int(row[\"할인가\"]),\n",
    "                \"original_price\": int(row[\"원래 가격\"]),\n",
    "                \"title\": row[\"제목\"],\n",
    "                \"description\": row[\"설명\"],\n",
    "                \"is_discounted\": row[\"할인가격 여부\"]\n",
    "            }\n",
    "        }\n",
    "\n",
    "# Bulk 업로드 실행\n",
    "bulk(es, generate_data(df, index_name))\n",
    "print(f\"Uploaded {len(df)} documents to index '{index_name}'\")"
   ]
  },
  {
   "cell_type": "code",
   "execution_count": 13,
   "metadata": {},
   "outputs": [],
   "source": [
    "# res = es.search(index=\"products\", body={\"query\": {\"match_all\": {}}}, size=10)\n",
    "# for doc in res['hits']['hits']:\n",
    "#     print(doc['_source'])\n"
   ]
  },
  {
   "cell_type": "code",
   "execution_count": 14,
   "metadata": {},
   "outputs": [],
   "source": [
    "# res = es.search(index=\"products\", body={\n",
    "#     \"query\": {\n",
    "#         \"match\": {\n",
    "#             \"category\": \"정육\"\n",
    "#         }\n",
    "#     }\n",
    "# })\n",
    "# for doc in res['hits']['hits']:\n",
    "#     print(doc['_source'])"
   ]
  }
 ],
 "metadata": {
  "kernelspec": {
   "display_name": "ai4cs",
   "language": "python",
   "name": "python3"
  },
  "language_info": {
   "codemirror_mode": {
    "name": "ipython",
    "version": 3
   },
   "file_extension": ".py",
   "mimetype": "text/x-python",
   "name": "python",
   "nbconvert_exporter": "python",
   "pygments_lexer": "ipython3",
   "version": "3.9.0"
  }
 },
 "nbformat": 4,
 "nbformat_minor": 2
}
